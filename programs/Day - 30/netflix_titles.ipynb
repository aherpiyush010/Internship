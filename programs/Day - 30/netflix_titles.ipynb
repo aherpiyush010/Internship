{
 "cells": [
  {
   "cell_type": "code",
   "execution_count": null,
   "id": "bd291dea",
   "metadata": {},
   "outputs": [],
   "source": [
    "import __future__\n",
    "import numpy as np\n",
    "import pandas as pd\n",
    "# Import visualization libraries and set favourite grid style\n",
    "import seaborn as sns\n",
    "import matplotlib.pyplot as plt\n",
    "sns.set_style('whitegrid')\n",
    "# Read in the dataset\n",
    "df = pd.read_csv('netflix_titles.csv')"
   ]
  }
 ],
 "metadata": {
  "kernelspec": {
   "display_name": ".venv",
   "language": "python",
   "name": "python3"
  },
  "language_info": {
   "codemirror_mode": {
    "name": "ipython",
    "version": 3
   },
   "file_extension": ".py",
   "mimetype": "text/x-python",
   "name": "python",
   "nbconvert_exporter": "python",
   "pygments_lexer": "ipython3",
   "version": "3.13.5"
  }
 },
 "nbformat": 4,
 "nbformat_minor": 5
}
